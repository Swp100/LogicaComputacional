{
 "cells": [
  {
   "cell_type": "code",
   "execution_count": 13,
   "id": "b6feac5d",
   "metadata": {
    "slideshow": {
     "slide_type": "slide"
    }
   },
   "outputs": [
    {
     "name": "stdout",
     "output_type": "stream",
     "text": [
      "P | Q | P → Q\n",
      "V | V | V\n",
      "V | F | F\n",
      "F | V | V\n",
      "F | F | V\n",
      "A tabela é uma Contingência\n"
     ]
    }
   ],
   "source": [
    "# P → Q\n",
    "#Cabeçalho\n",
    "print(f'P | Q | P → Q')\n",
    "for a in range(0,2,1):\n",
    "    for b in range(0,2,1):\n",
    "        if a==0:\n",
    "            P=\"V\"\n",
    "        else:\n",
    "            P=\"F\"\n",
    "        if b==0:\n",
    "            Q=\"V\"\n",
    "        else: \n",
    "            Q=\"F\"\n",
    "        if P==\"V\" and Q==\"F\":\n",
    "            print(f'{P} | {Q} | F')\n",
    "            n=0\n",
    "            n=n+1\n",
    "        else:\n",
    "            print(f'{P} | {Q} | V')\n",
    "if n==0:\n",
    "    print(\"A tabela é uma Contradição\")\n",
    "elif n==4:\n",
    "    print(\"A tabela é uma Tautológica\")\n",
    "else:\n",
    "    print(\"A tabela é uma Contingência\")"
   ]
  },
  {
   "cell_type": "code",
   "execution_count": null,
   "id": "907a6bb6",
   "metadata": {},
   "outputs": [],
   "source": []
  }
 ],
 "metadata": {
  "celltoolbar": "Raw Cell Format",
  "kernelspec": {
   "display_name": "Python 3 (ipykernel)",
   "language": "python",
   "name": "python3"
  },
  "language_info": {
   "codemirror_mode": {
    "name": "ipython",
    "version": 3
   },
   "file_extension": ".py",
   "mimetype": "text/x-python",
   "name": "python",
   "nbconvert_exporter": "python",
   "pygments_lexer": "ipython3",
   "version": "3.9.7"
  }
 },
 "nbformat": 4,
 "nbformat_minor": 5
}
